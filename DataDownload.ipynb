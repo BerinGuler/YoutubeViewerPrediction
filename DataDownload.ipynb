{
 "cells": [
  {
   "cell_type": "code",
   "execution_count": null,
   "id": "6b9b53d6-242d-4800-ab8b-92c4f0f57e22",
   "metadata": {},
   "outputs": [],
   "source": [
    "# Öncelikle kanal kodunu girerek kanala ait tüm videoların URL'lerine erişelim.\n",
    "\n",
    "import scrapetube\n",
    "\n",
    "videos = scrapetube.get_channel(\"<Kanal URL'si>\")\n",
    "\n",
    "for video in videos:\n",
    "    print(video['videoId'])"
   ]
  },
  {
   "cell_type": "code",
   "execution_count": null,
   "id": "b3e59d41-84ff-4ee1-86f6-82d0298d6b77",
   "metadata": {},
   "outputs": [],
   "source": [
    "# Çıkan Sonuçları Excell Dosyasına elle ya da excelle yazdırma kodu ile çekelim. Başlık ekleyelim "
   ]
  },
  {
   "cell_type": "code",
   "execution_count": null,
   "id": "ab62b926-8136-410e-b983-0a1afd275a5a",
   "metadata": {},
   "outputs": [],
   "source": [
    "# Kodları Excell'den okuyoruz.\n",
    "import pandas as pd\n",
    "from bs4 import BeautifulSoup\n",
    "import requests\n",
    "\n",
    "\n",
    "excel_data = pd.read_excel('<kod çekilecek excell dosyasının adı>')\n",
    "data = pd.DataFrame(excel_data, columns=['Eklenen Başlık'])\n",
    "print(\"The content of the file is:\\n\", data)"
   ]
  },
  {
   "cell_type": "code",
   "execution_count": null,
   "id": "aee14317-1413-4a47-917b-9c31e1a89e56",
   "metadata": {},
   "outputs": [],
   "source": [
    "#Header tanımlayalım.\n",
    "HEADER = {'User-Agent': 'Mozilla/5.0 (Macintosh; Intel Mac OS X 10_11_5) AppleWebKit/537.36 (KHTML, like Gecko) Chrome/50.0.2661.102 Safari/537.36'}"
   ]
  },
  {
   "cell_type": "code",
   "execution_count": null,
   "id": "14ce391a-0e69-4488-8a10-0cd88e13685b",
   "metadata": {},
   "outputs": [],
   "source": [
    "iter = 0\n",
    "num_of_videos = Kanalın kaç videosunu çekmek istiyorsak yazalım\n",
    "list1 = []\n",
    "list2 = []\n",
    "list3 = []\n",
    "col1 = \"VideoName\"\n",
    "col2 = \"Thumbnail\"\n",
    "col3 = \"viewcount\"\n",
    "\n",
    "while iter < num_of_videos:\n",
    "    x = data.iloc[iter]\n",
    "    y = x['Url']\n",
    "\n",
    "    link = \"https://www.youtube.com/watch?v=\"+y+\"&ab_channel=Vox\"\n",
    "\n",
    "    response = requests.get(link, headers=HEADER)\n",
    "    soup = BeautifulSoup(response.text, \"html.parser\")\n",
    "\n",
    "    titleSoupMeta = soup.find(\"meta\", property=\"og:title\")\n",
    "    thumbSoupMeta = soup.find(\"meta\", property=\"og:image\")\n",
    "\n",
    "    videoTitle = titleSoupMeta[\"content\"] if titleSoupMeta else \"NotFound\"\n",
    "    videoImage = thumbSoupMeta[\"content\"] if thumbSoupMeta else \"NotFound\"\n",
    "    soup = BeautifulSoup(requests.get(link).text, 'lxml')\n",
    "    \n",
    "    try: \n",
    "        viewCount = soup.select_one('meta[itemprop=\"interactionCount\"][content]')['content']\n",
    "\n",
    "    except: \n",
    "        viewCount = 0\n",
    "        print(\"Error in \" )\n",
    "        print(iter)\n",
    "    \n",
    "    \n",
    "    list1.append(videoTitle)\n",
    "    list2.append(videoImage)\n",
    "    list3.append(viewCount)\n",
    "    print(iter)\n",
    "    iter = iter + 1\n",
    "   \n",
    "\n",
    "data = pd.DataFrame({col1:list1,col2:list2,col3:list3})\n",
    "data.to_excel('<datayı almak istediğimiz excell>', sheet_name='data', index=False)"
   ]
  }
 ],
 "metadata": {
  "kernelspec": {
   "display_name": "Python 3 (ipykernel)",
   "language": "python",
   "name": "python3"
  },
  "language_info": {
   "codemirror_mode": {
    "name": "ipython",
    "version": 3
   },
   "file_extension": ".py",
   "mimetype": "text/x-python",
   "name": "python",
   "nbconvert_exporter": "python",
   "pygments_lexer": "ipython3",
   "version": "3.9.7"
  }
 },
 "nbformat": 4,
 "nbformat_minor": 5
}
